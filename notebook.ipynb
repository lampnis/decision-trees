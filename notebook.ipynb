{
 "cells": [
  {
   "cell_type": "markdown",
   "metadata": {},
   "source": [
    "# Decision tree for recognizing the flags of countries"
   ]
  },
  {
   "cell_type": "code",
   "execution_count": 15,
   "metadata": {},
   "outputs": [],
   "source": [
    "import seaborn as sns\n",
    "import pandas as pd\n",
    "import numpy as np\n",
    "from sklearn.model_selection import train_test_split\n",
    "import matplotlib.pyplot as plt\n",
    "from sklearn.tree import DecisionTreeClassifier\n",
    "from sklearn import tree\n",
    "from ucimlrepo import fetch_ucirepo\n",
    "\n",
    "flags = fetch_ucirepo(id=40)"
   ]
  },
  {
   "cell_type": "code",
   "execution_count": 27,
   "metadata": {},
   "outputs": [
    {
     "name": "stdout",
     "output_type": "stream",
     "text": [
      "   landmass  zone  area  population  language  religion  bars  stripes  \\\n",
      "0         5     1   648          16        10         2     0        3   \n",
      "1         3     1    29           3         6         6     0        0   \n",
      "2         4     1  2388          20         8         2     2        0   \n",
      "3         6     3     0           0         1         1     0        0   \n",
      "4         3     1     0           0         6         0     3        0   \n",
      "\n",
      "   colours  red  ...  saltries  quarters  sunstars  crescent  triangle  icon  \\\n",
      "0        5    1  ...         0         0         1         0         0     1   \n",
      "1        3    1  ...         0         0         1         0         0     0   \n",
      "2        3    1  ...         0         0         1         1         0     0   \n",
      "3        5    1  ...         0         0         0         0         1     1   \n",
      "4        3    1  ...         0         0         0         0         0     0   \n",
      "\n",
      "  animate  text  topleft  botright  \n",
      "0       0     0    black     green  \n",
      "1       1     0      red       red  \n",
      "2       0     0    green     white  \n",
      "3       1     0     blue       red  \n",
      "4       0     0     blue       red  \n",
      "\n",
      "[5 rows x 29 columns]\n",
      "0       Afghanistan\n",
      "1           Albania\n",
      "2           Algeria\n",
      "3    American-Samoa\n",
      "4           Andorra\n",
      "Name: name, dtype: object\n",
      "<class 'pandas.core.series.Series'>\n",
      "   landmass  zone  area  population  language  religion  bars  stripes  \\\n",
      "0         5     1   648          16        10         2     0        3   \n",
      "1         3     1    29           3         6         6     0        0   \n",
      "2         4     1  2388          20         8         2     2        0   \n",
      "3         6     3     0           0         1         1     0        0   \n",
      "4         3     1     0           0         6         0     3        0   \n",
      "\n",
      "   colours  red  ...  quarters  sunstars  crescent  triangle  icon  animate  \\\n",
      "0        5    1  ...         0         1         0         0     1        0   \n",
      "1        3    1  ...         0         1         0         0     0        1   \n",
      "2        3    1  ...         0         1         1         0     0        0   \n",
      "3        5    1  ...         0         0         0         1     1        1   \n",
      "4        3    1  ...         0         0         0         0     0        0   \n",
      "\n",
      "  text  topleft  botright            name  \n",
      "0    0    black     green     Afghanistan  \n",
      "1    0      red       red         Albania  \n",
      "2    0    green     white         Algeria  \n",
      "3    0     blue       red  American-Samoa  \n",
      "4    0     blue       red         Andorra  \n",
      "\n",
      "[5 rows x 30 columns]\n"
     ]
    }
   ],
   "source": [
    "X = flags.data.features.iloc[:,1:]\n",
    "y = flags.data.features['name']\n",
    "print(X.head())\n",
    "print(y.head())\n",
    "print(type(y))\n",
    "df = X.join(y.to_frame())\n",
    "print(df.head())"
   ]
  },
  {
   "cell_type": "code",
   "execution_count": 28,
   "metadata": {},
   "outputs": [],
   "source": [
    "#https://archive.ics.uci.edu/ml/machine-learning-databases/flags/flag.data\n",
    "# cols = ['name','landmass','zone', 'area', 'population', 'language','religion','bars','stripes','colours', 'red','green','blue','gold','white','black','orange','mainhue','circles', 'crosses','saltires','quarters','sunstars','crescent','triangle','icon','animate','text','topleft','botright']\n",
    "# df= pd.read_csv(\"https://archive.ics.uci.edu/ml/machine-learning-databases/flags/flag.data\", names = cols)\n",
    "# This cell only if we dont have done `pip install ucimlrepo`"
   ]
  },
  {
   "cell_type": "code",
   "execution_count": 41,
   "metadata": {},
   "outputs": [
    {
     "name": "stdout",
     "output_type": "stream",
     "text": [
      "          name\n",
      "landmass      \n",
      "1           31\n",
      "2           17\n",
      "3           35\n",
      "4           52\n",
      "5           39\n",
      "6           20\n"
     ]
    }
   ],
   "source": [
    "#variable names to use as predictors\n",
    "var = [ 'red', 'green', 'blue','gold', 'white', 'black', 'orange', 'mainhue','bars','stripes', 'circles','crosses', 'saltires','quarters','sunstars','triangle','animate']\n",
    "\n",
    "#Print number of countries by landmass, or continent (3=Europe, 6=Oceania)\n",
    "print(df[['name', 'landmass']].groupby('landmass').count())\n"
   ]
  },
  {
   "cell_type": "code",
   "execution_count": 42,
   "metadata": {},
   "outputs": [
    {
     "name": "stdout",
     "output_type": "stream",
     "text": [
      "    landmass  zone  area  population  language  religion  bars  stripes  \\\n",
      "1          3     1    29           3         6         6     0        0   \n",
      "3          6     3     0           0         1         1     0        0   \n",
      "4          3     1     0           0         6         0     3        0   \n",
      "10         6     2  7690          15         1         1     0        0   \n",
      "11         3     1    84           8         4         0     0        3   \n",
      "\n",
      "    colours  red  ...  quarters  sunstars  crescent  triangle  icon  animate  \\\n",
      "1         3    1  ...         0         1         0         0     0        1   \n",
      "3         5    1  ...         0         0         0         1     1        1   \n",
      "4         3    1  ...         0         0         0         0     0        0   \n",
      "10        3    1  ...         1         6         0         0     0        0   \n",
      "11        2    1  ...         0         0         0         0     0        0   \n",
      "\n",
      "   text  topleft  botright            name  \n",
      "1     0      red       red         Albania  \n",
      "3     0     blue       red  American-Samoa  \n",
      "4     0     blue       red         Andorra  \n",
      "10    0    white      blue       Australia  \n",
      "11    0      red       red         Austria  \n",
      "\n",
      "[5 rows x 30 columns]\n"
     ]
    }
   ],
   "source": [
    "#Create a new dataframe with only flags from Europe and Oceania\n",
    "df_36 =  df[df['landmass'].isin([3, 6])]\n",
    "print(df_36.head())"
   ]
  },
  {
   "cell_type": "code",
   "execution_count": null,
   "metadata": {},
   "outputs": [],
   "source": [
    "#Print the average vales of the predictors for Europe and Oceania\n",
    "print(None)\n",
    "\n",
    "#Create labels for only Europe and Oceania\n",
    "labels = None\n",
    "\n",
    "#Print the variable types for the predictors\n",
    "\n",
    "\n",
    "#Create dummy variables for categorical predictors\n",
    "data = pd.get_dummies(None)\n",
    "\n",
    "#Split data into a train and test set\n",
    "\n",
    "\n",
    "#Fit a decision tree for max_depth values 1-20; save the accuracy score in acc_depth\n",
    "depths = range(1, 21)\n",
    "acc_depth = []\n",
    "\n",
    "\n",
    "#Plot the accuracy vs depth\n",
    "\n",
    "\n",
    "#Find the largest accuracy and the depth this occurs\n",
    "\n",
    "\n",
    "#Refit decision tree model with the highest accuracy and plot the decision tree\n",
    "\n",
    "\n",
    "#Create a new list for the accuracy values of a pruned decision tree.  Loop through\n",
    "#the values of ccp and append the scores to the list\n",
    "\n",
    "\n",
    "#Plot the accuracy vs ccp_alpha\n",
    "\n",
    "\n",
    "#Find the largest accuracy and the ccp value this occurs\n",
    "\n",
    "\n",
    "#Fit a decision tree model with the values for max_depth and ccp_alpha found above\n",
    "\n",
    "\n",
    "#Plot the final decision tree"
   ]
  }
 ],
 "metadata": {
  "kernelspec": {
   "display_name": "Python 3",
   "language": "python",
   "name": "python3"
  },
  "language_info": {
   "codemirror_mode": {
    "name": "ipython",
    "version": 3
   },
   "file_extension": ".py",
   "mimetype": "text/x-python",
   "name": "python",
   "nbconvert_exporter": "python",
   "pygments_lexer": "ipython3",
   "version": "3.12.5"
  }
 },
 "nbformat": 4,
 "nbformat_minor": 2
}
