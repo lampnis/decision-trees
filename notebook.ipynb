{
 "cells": [
  {
   "cell_type": "markdown",
   "metadata": {},
   "source": [
    "# Decision tree for recognizing the flags of countries"
   ]
  },
  {
   "cell_type": "code",
   "execution_count": 112,
   "metadata": {},
   "outputs": [],
   "source": [
    "import seaborn as sns\n",
    "import pandas as pd\n",
    "import numpy as np\n",
    "from sklearn.model_selection import train_test_split\n",
    "import matplotlib.pyplot as plt\n",
    "from sklearn.tree import DecisionTreeClassifier\n",
    "from sklearn import tree\n",
    "from ucimlrepo import fetch_ucirepo\n",
    "\n",
    "flags = fetch_ucirepo(id=40)"
   ]
  },
  {
   "cell_type": "code",
   "execution_count": 113,
   "metadata": {},
   "outputs": [
    {
     "name": "stdout",
     "output_type": "stream",
     "text": [
      "   landmass  zone  area  population  language  religion  bars  stripes  \\\n",
      "0         5     1   648          16        10         2     0        3   \n",
      "1         3     1    29           3         6         6     0        0   \n",
      "2         4     1  2388          20         8         2     2        0   \n",
      "3         6     3     0           0         1         1     0        0   \n",
      "4         3     1     0           0         6         0     3        0   \n",
      "\n",
      "   colours  red  ...  saltries  quarters  sunstars  crescent  triangle  icon  \\\n",
      "0        5    1  ...         0         0         1         0         0     1   \n",
      "1        3    1  ...         0         0         1         0         0     0   \n",
      "2        3    1  ...         0         0         1         1         0     0   \n",
      "3        5    1  ...         0         0         0         0         1     1   \n",
      "4        3    1  ...         0         0         0         0         0     0   \n",
      "\n",
      "  animate  text  topleft  botright  \n",
      "0       0     0    black     green  \n",
      "1       1     0      red       red  \n",
      "2       0     0    green     white  \n",
      "3       1     0     blue       red  \n",
      "4       0     0     blue       red  \n",
      "\n",
      "[5 rows x 29 columns]\n",
      "0       Afghanistan\n",
      "1           Albania\n",
      "2           Algeria\n",
      "3    American-Samoa\n",
      "4           Andorra\n",
      "Name: name, dtype: object\n",
      "<class 'pandas.core.series.Series'>\n",
      "   landmass  zone  area  population  language  religion  bars  stripes  \\\n",
      "0         5     1   648          16        10         2     0        3   \n",
      "1         3     1    29           3         6         6     0        0   \n",
      "2         4     1  2388          20         8         2     2        0   \n",
      "3         6     3     0           0         1         1     0        0   \n",
      "4         3     1     0           0         6         0     3        0   \n",
      "\n",
      "   colours  red  ...  quarters  sunstars  crescent  triangle  icon  animate  \\\n",
      "0        5    1  ...         0         1         0         0     1        0   \n",
      "1        3    1  ...         0         1         0         0     0        1   \n",
      "2        3    1  ...         0         1         1         0     0        0   \n",
      "3        5    1  ...         0         0         0         1     1        1   \n",
      "4        3    1  ...         0         0         0         0     0        0   \n",
      "\n",
      "  text  topleft  botright            name  \n",
      "0    0    black     green     Afghanistan  \n",
      "1    0      red       red         Albania  \n",
      "2    0    green     white         Algeria  \n",
      "3    0     blue       red  American-Samoa  \n",
      "4    0     blue       red         Andorra  \n",
      "\n",
      "[5 rows x 30 columns]\n"
     ]
    }
   ],
   "source": [
    "X = flags.data.features.iloc[:,1:]\n",
    "y = flags.data.features['name']\n",
    "print(X.head())\n",
    "print(y.head())\n",
    "print(type(y))\n",
    "df = X.join(y.to_frame())\n",
    "print(df.head())"
   ]
  },
  {
   "cell_type": "code",
   "execution_count": 114,
   "metadata": {},
   "outputs": [],
   "source": [
    "#https://archive.ics.uci.edu/ml/machine-learning-databases/flags/flag.data\n",
    "# cols = ['name','landmass','zone', 'area', 'population', 'language','religion','bars','stripes','colours', 'red','green','blue','gold','white','black','orange','mainhue','circles', 'crosses','saltires','quarters','sunstars','crescent','triangle','icon','animate','text','topleft','botright']\n",
    "# df= pd.read_csv(\"https://archive.ics.uci.edu/ml/machine-learning-databases/flags/flag.data\", names = cols)\n",
    "# This cell only if we dont have done `pip install ucimlrepo`"
   ]
  },
  {
   "cell_type": "code",
   "execution_count": 115,
   "metadata": {},
   "outputs": [
    {
     "name": "stdout",
     "output_type": "stream",
     "text": [
      "          name\n",
      "landmass      \n",
      "1           31\n",
      "2           17\n",
      "3           35\n",
      "4           52\n",
      "5           39\n",
      "6           20\n"
     ]
    }
   ],
   "source": [
    "#variable names to use as predictors\n",
    "var = ['red', 'green', 'blue', 'gold', 'white', 'black', 'orange', 'mainhue', 'bars', 'stripes', 'circles', 'crosses', 'saltries', 'quarters', 'sunstars', 'triangle', 'animate']\n",
    "\n",
    "#Print number of countries by landmass, or continent (3=Europe, 6=Oceania)\n",
    "print(df[['name', 'landmass']].groupby('landmass').count())\n"
   ]
  },
  {
   "cell_type": "code",
   "execution_count": 116,
   "metadata": {},
   "outputs": [
    {
     "name": "stdout",
     "output_type": "stream",
     "text": [
      "    landmass  zone  area  population  language  religion  bars  stripes  \\\n",
      "1          3     1    29           3         6         6     0        0   \n",
      "3          6     3     0           0         1         1     0        0   \n",
      "4          3     1     0           0         6         0     3        0   \n",
      "10         6     2  7690          15         1         1     0        0   \n",
      "11         3     1    84           8         4         0     0        3   \n",
      "\n",
      "    colours  red  ...  quarters  sunstars  crescent  triangle  icon  animate  \\\n",
      "1         3    1  ...         0         1         0         0     0        1   \n",
      "3         5    1  ...         0         0         0         1     1        1   \n",
      "4         3    1  ...         0         0         0         0     0        0   \n",
      "10        3    1  ...         1         6         0         0     0        0   \n",
      "11        2    1  ...         0         0         0         0     0        0   \n",
      "\n",
      "   text  topleft  botright            name  \n",
      "1     0      red       red         Albania  \n",
      "3     0     blue       red  American-Samoa  \n",
      "4     0     blue       red         Andorra  \n",
      "10    0    white      blue       Australia  \n",
      "11    0      red       red         Austria  \n",
      "\n",
      "[5 rows x 30 columns]\n"
     ]
    }
   ],
   "source": [
    "#Create a new dataframe with only flags from Europe and Oceania\n",
    "df_36 =  df[df['landmass'].isin([3, 6])]\n",
    "print(df_36.head())"
   ]
  },
  {
   "cell_type": "code",
   "execution_count": 117,
   "metadata": {},
   "outputs": [
    {
     "name": "stdout",
     "output_type": "stream",
     "text": [
      "[1 2 3 4 5 6]\n"
     ]
    },
    {
     "name": "stderr",
     "output_type": "stream",
     "text": [
      "C:\\Users\\Aigars\\AppData\\Local\\Temp\\ipykernel_16672\\3845492813.py:2: FutureWarning: Downcasting behavior in `replace` is deprecated and will be removed in a future version. To retain the old behavior, explicitly call `result.infer_objects(copy=False)`. To opt-in to the future behavior, set `pd.set_option('future.no_silent_downcasting', True)`\n",
      "  df_36.loc[:,'mainhue'] = df_36['mainhue'].replace({\n"
     ]
    }
   ],
   "source": [
    "# red=1, blue=2, gold=3, white=4, black=5, green=6\n",
    "df_36.loc[:,'mainhue'] = df_36['mainhue'].replace({\n",
    "    'red': 1,\n",
    "    'blue': 2,\n",
    "    'gold': 3,\n",
    "    'white': 4,\n",
    "    'black': 5,\n",
    "    'green': 6\n",
    "})\n",
    "print(df_36['mainhue'].unique())"
   ]
  },
  {
   "cell_type": "code",
   "execution_count": 118,
   "metadata": {},
   "outputs": [
    {
     "name": "stdout",
     "output_type": "stream",
     "text": [
      "landmass         3     6\n",
      "red       0.828571   0.8\n",
      "green          0.2   0.2\n",
      "blue      0.514286   0.8\n",
      "gold      0.428571   0.6\n",
      "white     0.771429  0.95\n",
      "black     0.171429  0.15\n",
      "orange    0.057143  0.15\n",
      "mainhue   2.285714   2.1\n",
      "bars      0.628571   0.0\n",
      "stripes   1.285714   0.4\n",
      "circles   0.028571  0.15\n",
      "crosses   0.285714   0.4\n",
      "saltries  0.028571   0.3\n",
      "quarters  0.028571   0.4\n",
      "sunstars  0.142857   3.3\n",
      "triangle  0.028571  0.25\n",
      "animate   0.114286   0.3\n"
     ]
    }
   ],
   "source": [
    "# Print the average values of the predictors for Europe and Oceania\n",
    "df_36_grouped = df_36.groupby('landmass')[var].mean().T\n",
    "print(df_36_grouped)"
   ]
  },
  {
   "cell_type": "code",
   "execution_count": 119,
   "metadata": {},
   "outputs": [
    {
     "name": "stdout",
     "output_type": "stream",
     "text": [
      "0      0\n",
      "1      1\n",
      "2      0\n",
      "3      1\n",
      "4      1\n",
      "      ..\n",
      "189    1\n",
      "190    1\n",
      "191    0\n",
      "192    0\n",
      "193    0\n",
      "Name: landmass, Length: 194, dtype: int32\n"
     ]
    }
   ],
   "source": [
    "#Create labels for only Europe and Oceania\n",
    "labels = (df['landmass'].isin([3, 6]))*1 \n",
    "print(labels)"
   ]
  },
  {
   "cell_type": "code",
   "execution_count": 120,
   "metadata": {},
   "outputs": [
    {
     "name": "stdout",
     "output_type": "stream",
     "text": [
      "red          int64\n",
      "green        int64\n",
      "blue         int64\n",
      "gold         int64\n",
      "white        int64\n",
      "black        int64\n",
      "orange       int64\n",
      "mainhue     object\n",
      "bars         int64\n",
      "stripes      int64\n",
      "circles      int64\n",
      "crosses      int64\n",
      "saltries     int64\n",
      "quarters     int64\n",
      "sunstars     int64\n",
      "triangle     int64\n",
      "animate      int64\n",
      "dtype: object\n"
     ]
    }
   ],
   "source": [
    "#Print the variable types for the predictors\n",
    "print(df_36[var].dtypes)"
   ]
  },
  {
   "cell_type": "code",
   "execution_count": 121,
   "metadata": {},
   "outputs": [
    {
     "name": "stdout",
     "output_type": "stream",
     "text": [
      "Index(['red', 'green', 'blue', 'gold', 'white', 'black', 'orange', 'bars',\n",
      "       'stripes', 'circles', 'crosses', 'saltries', 'quarters', 'sunstars',\n",
      "       'triangle', 'animate', 'mainhue_black', 'mainhue_blue', 'mainhue_brown',\n",
      "       'mainhue_gold', 'mainhue_green', 'mainhue_orange', 'mainhue_red',\n",
      "       'mainhue_white'],\n",
      "      dtype='object')\n"
     ]
    }
   ],
   "source": [
    "#Create dummy variables for categorical predictors\n",
    "data = pd.get_dummies(df[var])\n",
    "print(data.columns)"
   ]
  },
  {
   "cell_type": "code",
   "execution_count": 122,
   "metadata": {},
   "outputs": [],
   "source": [
    "#Split data into a train and test set\n",
    "x_train, x_test, y_train, y_test = train_test_split(data, labels, test_size=0.2)"
   ]
  },
  {
   "cell_type": "code",
   "execution_count": 123,
   "metadata": {},
   "outputs": [
    {
     "name": "stdout",
     "output_type": "stream",
     "text": [
      "red               int64\n",
      "green             int64\n",
      "blue              int64\n",
      "gold              int64\n",
      "white             int64\n",
      "black             int64\n",
      "orange            int64\n",
      "bars              int64\n",
      "stripes           int64\n",
      "circles           int64\n",
      "crosses           int64\n",
      "saltries          int64\n",
      "quarters          int64\n",
      "sunstars          int64\n",
      "triangle          int64\n",
      "animate           int64\n",
      "mainhue_black      bool\n",
      "mainhue_blue       bool\n",
      "mainhue_brown      bool\n",
      "mainhue_gold       bool\n",
      "mainhue_green      bool\n",
      "mainhue_orange     bool\n",
      "mainhue_red        bool\n",
      "mainhue_white      bool\n",
      "dtype: object\n"
     ]
    }
   ],
   "source": [
    "print(x_train.dtypes)"
   ]
  },
  {
   "cell_type": "code",
   "execution_count": 124,
   "metadata": {},
   "outputs": [],
   "source": [
    "#Fit a decision tree for max_depth values 1-20; save the accuracy score in acc_depth\n",
    "depths = range(1, 21)\n",
    "acc_depth = []\n",
    "for depth in depths:\n",
    "    dtree = DecisionTreeClassifier(max_depth=depth)\n",
    "    dtree.fit(x_train, y_train)\n",
    "    acc_depth.append(dtree.score(x_test, y_test))"
   ]
  },
  {
   "cell_type": "code",
   "execution_count": 125,
   "metadata": {},
   "outputs": [
    {
     "data": {
      "image/png": "[encoded data removed]",
      "text/plain": [
       "<Figure size 1000x300 with 1 Axes>"
      ]
     },
     "metadata": {},
     "output_type": "display_data"
    }
   ],
   "source": [
    "#Plot the accuracy vs depth\n",
    "plt.figure(figsize=(10, 3))\n",
    "plt.plot(depths, acc_depth, 'kx-')\n",
    "plt.xlabel('Depth of a tree')\n",
    "plt.ylabel('Accuracy')\n",
    "plt.title('Accuracy vs Depth of Decision Tree')\n",
    "plt.xticks(depths)\n",
    "plt.show()"
   ]
  },
  {
   "cell_type": "code",
   "execution_count": 126,
   "metadata": {},
   "outputs": [
    {
     "name": "stdout",
     "output_type": "stream",
     "text": [
      "[0.7435897435897436, 0.8461538461538461, 0.8461538461538461, 0.7948717948717948, 0.7948717948717948, 0.7948717948717948, 0.8461538461538461, 0.7948717948717948, 0.8205128205128205, 0.8461538461538461, 0.8205128205128205, 0.8205128205128205, 0.8205128205128205, 0.8461538461538461, 0.8205128205128205, 0.8205128205128205, 0.8205128205128205, 0.8205128205128205, 0.8205128205128205, 0.8461538461538461]\n",
      "1\n",
      "2\n"
     ]
    }
   ],
   "source": [
    "#Find the largest accuracy and the depth this occurs\n",
    "largest_acc_idx = np.argmax(acc_depth)\n",
    "print(acc_depth)\n",
    "print(largest_acc_idx)\n",
    "print(list(depths)[largest_acc_idx])\n",
    "best_depth = list(depths)[largest_acc_idx]"
   ]
  },
  {
   "cell_type": "code",
   "execution_count": 127,
   "metadata": {},
   "outputs": [
    {
     "data": {
      "text/html": [
       "<style>#sk-container-id-5 {\n",
       "  /* Definition of color scheme common for light and dark mode */\n",
       "  --sklearn-color-text: black;\n",
       "  --sklearn-color-line: gray;\n",
       "  /* Definition of color scheme for unfitted estimators */\n",
       "  --sklearn-color-unfitted-level-0: #fff5e6;\n",
       "  --sklearn-color-unfitted-level-1: #f6e4d2;\n",
       "  --sklearn-color-unfitted-level-2: #ffe0b3;\n",
       "  --sklearn-color-unfitted-level-3: chocolate;\n",
       "  /* Definition of color scheme for fitted estimators */\n",
       "  --sklearn-color-fitted-level-0: #f0f8ff;\n",
       "  --sklearn-color-fitted-level-1: #d4ebff;\n",
       "  --sklearn-color-fitted-level-2: #b3dbfd;\n",
       "  --sklearn-color-fitted-level-3: cornflowerblue;\n",
       "\n",
       "  /* Specific color for light theme */\n",
       "  --sklearn-color-text-on-default-background: var(--sg-text-color, var(--theme-code-foreground, var(--jp-content-font-color1, black)));\n",
       "  --sklearn-color-background: var(--sg-background-color, var(--theme-background, var(--jp-layout-color0, white)));\n",
       "  --sklearn-color-border-box: var(--sg-text-color, var(--theme-code-foreground, var(--jp-content-font-color1, black)));\n",
       "  --sklearn-color-icon: #696969;\n",
       "\n",
       "  @media (prefers-color-scheme: dark) {\n",
       "    /* Redefinition of color scheme for dark theme */\n",
       "    --sklearn-color-text-on-default-background: var(--sg-text-color, var(--theme-code-foreground, var(--jp-content-font-color1, white)));\n",
       "    --sklearn-color-background: var(--sg-background-color, var(--theme-background, var(--jp-layout-color0, #111)));\n",
       "    --sklearn-color-border-box: var(--sg-text-color, var(--theme-code-foreground, var(--jp-content-font-color1, white)));\n",
       "    --sklearn-color-icon: #878787;\n",
       "  }\n",
       "}\n",
       "\n",
       "#sk-container-id-5 {\n",
       "  color: var(--sklearn-color-text);\n",
       "}\n",
       "\n",
       "#sk-container-id-5 pre {\n",
       "  padding: 0;\n",
       "}\n",
       "\n",
       "#sk-container-id-5 input.sk-hidden--visually {\n",
       "  border: 0;\n",
       "  clip: rect(1px 1px 1px 1px);\n",
       "  clip: rect(1px, 1px, 1px, 1px);\n",
       "  height: 1px;\n",
       "  margin: -1px;\n",
       "  overflow: hidden;\n",
       "  padding: 0;\n",
       "  position: absolute;\n",
       "  width: 1px;\n",
       "}\n",
       "\n",
       "#sk-container-id-5 div.sk-dashed-wrapped {\n",
       "  border: 1px dashed var(--sklearn-color-line);\n",
       "  margin: 0 0.4em 0.5em 0.4em;\n",
       "  box-sizing: border-box;\n",
       "  padding-bottom: 0.4em;\n",
       "  background-color: var(--sklearn-color-background);\n",
       "}\n",
       "\n",
       "#sk-container-id-5 div.sk-container {\n",
       "  /* jupyter's `normalize.less` sets `[hidden] { display: none; }`\n",
       "     but bootstrap.min.css set `[hidden] { display: none !important; }`\n",
       "     so we also need the `!important` here to be able to override the\n",
       "     default hidden behavior on the sphinx rendered scikit-learn.org.\n",
       "     See: https://github.com/scikit-learn/scikit-learn/issues/21755 */\n",
       "  display: inline-block !important;\n",
       "  position: relative;\n",
       "}\n",
       "\n",
       "#sk-container-id-5 div.sk-text-repr-fallback {\n",
       "  display: none;\n",
       "}\n",
       "\n",
       "div.sk-parallel-item,\n",
       "div.sk-serial,\n",
       "div.sk-item {\n",
       "  /* draw centered vertical line to link estimators */\n",
       "  background-image: linear-gradient(var(--sklearn-color-text-on-default-background), var(--sklearn-color-text-on-default-background));\n",
       "  background-size: 2px 100%;\n",
       "  background-repeat: no-repeat;\n",
       "  background-position: center center;\n",
       "}\n",
       "\n",
       "/* Parallel-specific style estimator block */\n",
       "\n",
       "#sk-container-id-5 div.sk-parallel-item::after {\n",
       "  content: \"\";\n",
       "  width: 100%;\n",
       "  border-bottom: 2px solid var(--sklearn-color-text-on-default-background);\n",
       "  flex-grow: 1;\n",
       "}\n",
       "\n",
       "#sk-container-id-5 div.sk-parallel {\n",
       "  display: flex;\n",
       "  align-items: stretch;\n",
       "  justify-content: center;\n",
       "  background-color: var(--sklearn-color-background);\n",
       "  position: relative;\n",
       "}\n",
       "\n",
       "#sk-container-id-5 div.sk-parallel-item {\n",
       "  display: flex;\n",
       "  flex-direction: column;\n",
       "}\n",
       "\n",
       "#sk-container-id-5 div.sk-parallel-item:first-child::after {\n",
       "  align-self: flex-end;\n",
       "  width: 50%;\n",
       "}\n",
       "\n",
       "#sk-container-id-5 div.sk-parallel-item:last-child::after {\n",
       "  align-self: flex-start;\n",
       "  width: 50%;\n",
       "}\n",
       "\n",
       "#sk-container-id-5 div.sk-parallel-item:only-child::after {\n",
       "  width: 0;\n",
       "}\n",
       "\n",
       "/* Serial-specific style estimator block */\n",
       "\n",
       "#sk-container-id-5 div.sk-serial {\n",
       "  display: flex;\n",
       "  flex-direction: column;\n",
       "  align-items: center;\n",
       "  background-color: var(--sklearn-color-background);\n",
       "  padding-right: 1em;\n",
       "  padding-left: 1em;\n",
       "}\n",
       "\n",
       "\n",
       "/* Toggleable style: style used for estimator/Pipeline/ColumnTransformer box that is\n",
       "clickable and can be expanded/collapsed.\n",
       "- Pipeline and ColumnTransformer use this feature and define the default style\n",
       "- Estimators will overwrite some part of the style using the `sk-estimator` class\n",
       "*/\n",
       "\n",
       "/* Pipeline and ColumnTransformer style (default) */\n",
       "\n",
       "#sk-container-id-5 div.sk-toggleable {\n",
       "  /* Default theme specific background. It is overwritten whether we have a\n",
       "  specific estimator or a Pipeline/ColumnTransformer */\n",
       "  background-color: var(--sklearn-color-background);\n",
       "}\n",
       "\n",
       "/* Toggleable label */\n",
       "#sk-container-id-5 label.sk-toggleable__label {\n",
       "  cursor: pointer;\n",
       "  display: block;\n",
       "  width: 100%;\n",
       "  margin-bottom: 0;\n",
       "  padding: 0.5em;\n",
       "  box-sizing: border-box;\n",
       "  text-align: center;\n",
       "}\n",
       "\n",
       "#sk-container-id-5 label.sk-toggleable__label-arrow:before {\n",
       "  /* Arrow on the left of the label */\n",
       "  content: \"▸\";\n",
       "  float: left;\n",
       "  margin-right: 0.25em;\n",
       "  color: var(--sklearn-color-icon);\n",
       "}\n",
       "\n",
       "#sk-container-id-5 label.sk-toggleable__label-arrow:hover:before {\n",
       "  color: var(--sklearn-color-text);\n",
       "}\n",
       "\n",
       "/* Toggleable content - dropdown */\n",
       "\n",
       "#sk-container-id-5 div.sk-toggleable__content {\n",
       "  max-height: 0;\n",
       "  max-width: 0;\n",
       "  overflow: hidden;\n",
       "  text-align: left;\n",
       "  /* unfitted */\n",
       "  background-color: var(--sklearn-color-unfitted-level-0);\n",
       "}\n",
       "\n",
       "#sk-container-id-5 div.sk-toggleable__content.fitted {\n",
       "  /* fitted */\n",
       "  background-color: var(--sklearn-color-fitted-level-0);\n",
       "}\n",
       "\n",
       "#sk-container-id-5 div.sk-toggleable__content pre {\n",
       "  margin: 0.2em;\n",
       "  border-radius: 0.25em;\n",
       "  color: var(--sklearn-color-text);\n",
       "  /* unfitted */\n",
       "  background-color: var(--sklearn-color-unfitted-level-0);\n",
       "}\n",
       "\n",
       "#sk-container-id-5 div.sk-toggleable__content.fitted pre {\n",
       "  /* unfitted */\n",
       "  background-color: var(--sklearn-color-fitted-level-0);\n",
       "}\n",
       "\n",
       "#sk-container-id-5 input.sk-toggleable__control:checked~div.sk-toggleable__content {\n",
       "  /* Expand drop-down */\n",
       "  max-height: 200px;\n",
       "  max-width: 100%;\n",
       "  overflow: auto;\n",
       "}\n",
       "\n",
       "#sk-container-id-5 input.sk-toggleable__control:checked~label.sk-toggleable__label-arrow:before {\n",
       "  content: \"▾\";\n",
       "}\n",
       "\n",
       "/* Pipeline/ColumnTransformer-specific style */\n",
       "\n",
       "#sk-container-id-5 div.sk-label input.sk-toggleable__control:checked~label.sk-toggleable__label {\n",
       "  color: var(--sklearn-color-text);\n",
       "  background-color: var(--sklearn-color-unfitted-level-2);\n",
       "}\n",
       "\n",
       "#sk-container-id-5 div.sk-label.fitted input.sk-toggleable__control:checked~label.sk-toggleable__label {\n",
       "  background-color: var(--sklearn-color-fitted-level-2);\n",
       "}\n",
       "\n",
       "/* Estimator-specific style */\n",
       "\n",
       "/* Colorize estimator box */\n",
       "#sk-container-id-5 div.sk-estimator input.sk-toggleable__control:checked~label.sk-toggleable__label {\n",
       "  /* unfitted */\n",
       "  background-color: var(--sklearn-color-unfitted-level-2);\n",
       "}\n",
       "\n",
       "#sk-container-id-5 div.sk-estimator.fitted input.sk-toggleable__control:checked~label.sk-toggleable__label {\n",
       "  /* fitted */\n",
       "  background-color: var(--sklearn-color-fitted-level-2);\n",
       "}\n",
       "\n",
       "#sk-container-id-5 div.sk-label label.sk-toggleable__label,\n",
       "#sk-container-id-5 div.sk-label label {\n",
       "  /* The background is the default theme color */\n",
       "  color: var(--sklearn-color-text-on-default-background);\n",
       "}\n",
       "\n",
       "/* On hover, darken the color of the background */\n",
       "#sk-container-id-5 div.sk-label:hover label.sk-toggleable__label {\n",
       "  color: var(--sklearn-color-text);\n",
       "  background-color: var(--sklearn-color-unfitted-level-2);\n",
       "}\n",
       "\n",
       "/* Label box, darken color on hover, fitted */\n",
       "#sk-container-id-5 div.sk-label.fitted:hover label.sk-toggleable__label.fitted {\n",
       "  color: var(--sklearn-color-text);\n",
       "  background-color: var(--sklearn-color-fitted-level-2);\n",
       "}\n",
       "\n",
       "/* Estimator label */\n",
       "\n",
       "#sk-container-id-5 div.sk-label label {\n",
       "  font-family: monospace;\n",
       "  font-weight: bold;\n",
       "  display: inline-block;\n",
       "  line-height: 1.2em;\n",
       "}\n",
       "\n",
       "#sk-container-id-5 div.sk-label-container {\n",
       "  text-align: center;\n",
       "}\n",
       "\n",
       "/* Estimator-specific */\n",
       "#sk-container-id-5 div.sk-estimator {\n",
       "  font-family: monospace;\n",
       "  border: 1px dotted var(--sklearn-color-border-box);\n",
       "  border-radius: 0.25em;\n",
       "  box-sizing: border-box;\n",
       "  margin-bottom: 0.5em;\n",
       "  /* unfitted */\n",
       "  background-color: var(--sklearn-color-unfitted-level-0);\n",
       "}\n",
       "\n",
       "#sk-container-id-5 div.sk-estimator.fitted {\n",
       "  /* fitted */\n",
       "  background-color: var(--sklearn-color-fitted-level-0);\n",
       "}\n",
       "\n",
       "/* on hover */\n",
       "#sk-container-id-5 div.sk-estimator:hover {\n",
       "  /* unfitted */\n",
       "  background-color: var(--sklearn-color-unfitted-level-2);\n",
       "}\n",
       "\n",
       "#sk-container-id-5 div.sk-estimator.fitted:hover {\n",
       "  /* fitted */\n",
       "  background-color: var(--sklearn-color-fitted-level-2);\n",
       "}\n",
       "\n",
       "/* Specification for estimator info (e.g. \"i\" and \"?\") */\n",
       "\n",
       "/* Common style for \"i\" and \"?\" */\n",
       "\n",
       ".sk-estimator-doc-link,\n",
       "a:link.sk-estimator-doc-link,\n",
       "a:visited.sk-estimator-doc-link {\n",
       "  float: right;\n",
       "  font-size: smaller;\n",
       "  line-height: 1em;\n",
       "  font-family: monospace;\n",
       "  background-color: var(--sklearn-color-background);\n",
       "  border-radius: 1em;\n",
       "  height: 1em;\n",
       "  width: 1em;\n",
       "  text-decoration: none !important;\n",
       "  margin-left: 1ex;\n",
       "  /* unfitted */\n",
       "  border: var(--sklearn-color-unfitted-level-1) 1pt solid;\n",
       "  color: var(--sklearn-color-unfitted-level-1);\n",
       "}\n",
       "\n",
       ".sk-estimator-doc-link.fitted,\n",
       "a:link.sk-estimator-doc-link.fitted,\n",
       "a:visited.sk-estimator-doc-link.fitted {\n",
       "  /* fitted */\n",
       "  border: var(--sklearn-color-fitted-level-1) 1pt solid;\n",
       "  color: var(--sklearn-color-fitted-level-1);\n",
       "}\n",
       "\n",
       "/* On hover */\n",
       "div.sk-estimator:hover .sk-estimator-doc-link:hover,\n",
       ".sk-estimator-doc-link:hover,\n",
       "div.sk-label-container:hover .sk-estimator-doc-link:hover,\n",
       ".sk-estimator-doc-link:hover {\n",
       "  /* unfitted */\n",
       "  background-color: var(--sklearn-color-unfitted-level-3);\n",
       "  color: var(--sklearn-color-background);\n",
       "  text-decoration: none;\n",
       "}\n",
       "\n",
       "div.sk-estimator.fitted:hover .sk-estimator-doc-link.fitted:hover,\n",
       ".sk-estimator-doc-link.fitted:hover,\n",
       "div.sk-label-container:hover .sk-estimator-doc-link.fitted:hover,\n",
       ".sk-estimator-doc-link.fitted:hover {\n",
       "  /* fitted */\n",
       "  background-color: var(--sklearn-color-fitted-level-3);\n",
       "  color: var(--sklearn-color-background);\n",
       "  text-decoration: none;\n",
       "}\n",
       "\n",
       "/* Span, style for the box shown on hovering the info icon */\n",
       ".sk-estimator-doc-link span {\n",
       "  display: none;\n",
       "  z-index: 9999;\n",
       "  position: relative;\n",
       "  font-weight: normal;\n",
       "  right: .2ex;\n",
       "  padding: .5ex;\n",
       "  margin: .5ex;\n",
       "  width: min-content;\n",
       "  min-width: 20ex;\n",
       "  max-width: 50ex;\n",
       "  color: var(--sklearn-color-text);\n",
       "  box-shadow: 2pt 2pt 4pt #999;\n",
       "  /* unfitted */\n",
       "  background: var(--sklearn-color-unfitted-level-0);\n",
       "  border: .5pt solid var(--sklearn-color-unfitted-level-3);\n",
       "}\n",
       "\n",
       ".sk-estimator-doc-link.fitted span {\n",
       "  /* fitted */\n",
       "  background: var(--sklearn-color-fitted-level-0);\n",
       "  border: var(--sklearn-color-fitted-level-3);\n",
       "}\n",
       "\n",
       ".sk-estimator-doc-link:hover span {\n",
       "  display: block;\n",
       "}\n",
       "\n",
       "/* \"?\"-specific style due to the `<a>` HTML tag */\n",
       "\n",
       "#sk-container-id-5 a.estimator_doc_link {\n",
       "  float: right;\n",
       "  font-size: 1rem;\n",
       "  line-height: 1em;\n",
       "  font-family: monospace;\n",
       "  background-color: var(--sklearn-color-background);\n",
       "  border-radius: 1rem;\n",
       "  height: 1rem;\n",
       "  width: 1rem;\n",
       "  text-decoration: none;\n",
       "  /* unfitted */\n",
       "  color: var(--sklearn-color-unfitted-level-1);\n",
       "  border: var(--sklearn-color-unfitted-level-1) 1pt solid;\n",
       "}\n",
       "\n",
       "#sk-container-id-5 a.estimator_doc_link.fitted {\n",
       "  /* fitted */\n",
       "  border: var(--sklearn-color-fitted-level-1) 1pt solid;\n",
       "  color: var(--sklearn-color-fitted-level-1);\n",
       "}\n",
       "\n",
       "/* On hover */\n",
       "#sk-container-id-5 a.estimator_doc_link:hover {\n",
       "  /* unfitted */\n",
       "  background-color: var(--sklearn-color-unfitted-level-3);\n",
       "  color: var(--sklearn-color-background);\n",
       "  text-decoration: none;\n",
       "}\n",
       "\n",
       "#sk-container-id-5 a.estimator_doc_link.fitted:hover {\n",
       "  /* fitted */\n",
       "  background-color: var(--sklearn-color-fitted-level-3);\n",
       "}\n",
       "</style><div id=\"sk-container-id-5\" class=\"sk-top-container\"><div class=\"sk-text-repr-fallback\"><pre>DecisionTreeClassifier(max_depth=9)</pre><b>In a Jupyter environment, please rerun this cell to show the HTML representation or trust the notebook. <br />On GitHub, the HTML representation is unable to render, please try loading this page with nbviewer.org.</b></div><div class=\"sk-container\" hidden><div class=\"sk-item\"><div class=\"sk-estimator fitted sk-toggleable\"><input class=\"sk-toggleable__control sk-hidden--visually\" id=\"sk-estimator-id-5\" type=\"checkbox\" checked><label for=\"sk-estimator-id-5\" class=\"sk-toggleable__label fitted sk-toggleable__label-arrow fitted\">&nbsp;&nbsp;DecisionTreeClassifier<a class=\"sk-estimator-doc-link fitted\" rel=\"noreferrer\" target=\"_blank\" href=\"https://scikit-learn.org/1.5/modules/generated/sklearn.tree.DecisionTreeClassifier.html\">?<span>Documentation for DecisionTreeClassifier</span></a><span class=\"sk-estimator-doc-link fitted\">i<span>Fitted</span></span></label><div class=\"sk-toggleable__content fitted\"><pre>DecisionTreeClassifier(max_depth=9)</pre></div> </div></div></div></div>"
      ],
      "text/plain": [
       "DecisionTreeClassifier(max_depth=9)"
      ]
     },
     "execution_count": 127,
     "metadata": {},
     "output_type": "execute_result"
    }
   ],
   "source": [
    "#Refit decision tree model with the highest accuracy and plot the decision tree\n",
    "dtree_largest_acc = DecisionTreeClassifier(max_depth=largest_acc+1)\n",
    "dtree_largest_acc.fit(x_train, y_train)"
   ]
  },
  {
   "cell_type": "code",
   "execution_count": 128,
   "metadata": {},
   "outputs": [
    {
     "name": "stdout",
     "output_type": "stream",
     "text": [
      "[0.8461538461538461, 0.8717948717948718, 0.8461538461538461, 0.8461538461538461, 0.8461538461538461, 0.7435897435897436, 0.7435897435897436, 0.7435897435897436, 0.7435897435897436, 0.7435897435897436, 0.7435897435897436, 0.7435897435897436, 0.7435897435897436, 0.7435897435897436, 0.7435897435897436, 0.7435897435897436, 0.7435897435897436, 0.7435897435897436, 0.7435897435897436, 0.7435897435897436, 0.7435897435897436, 0.7435897435897436, 0.7435897435897436, 0.7435897435897436, 0.7435897435897436, 0.7435897435897436, 0.7435897435897436, 0.7435897435897436, 0.7435897435897436, 0.7435897435897436, 0.7435897435897436, 0.7435897435897436, 0.7435897435897436, 0.7435897435897436, 0.7435897435897436, 0.7435897435897436, 0.7435897435897436, 0.7435897435897436, 0.7435897435897436, 0.7435897435897436, 0.7435897435897436, 0.7435897435897436, 0.7435897435897436, 0.7435897435897436, 0.7435897435897436, 0.7435897435897436, 0.7435897435897436, 0.7435897435897436, 0.7435897435897436, 0.7435897435897436, 0.7435897435897436, 0.7435897435897436, 0.7435897435897436, 0.7435897435897436, 0.7435897435897436, 0.7435897435897436, 0.7435897435897436, 0.7435897435897436, 0.7435897435897436, 0.7435897435897436, 0.7435897435897436, 0.7435897435897436, 0.7435897435897436, 0.7435897435897436, 0.7435897435897436, 0.7435897435897436, 0.7435897435897436, 0.7435897435897436, 0.7435897435897436, 0.7435897435897436, 0.7435897435897436, 0.7435897435897436, 0.7435897435897436, 0.7435897435897436, 0.7435897435897436, 0.7435897435897436, 0.7435897435897436, 0.7435897435897436, 0.7435897435897436, 0.7435897435897436, 0.7435897435897436, 0.7435897435897436, 0.7435897435897436, 0.7435897435897436, 0.7435897435897436, 0.7435897435897436, 0.7435897435897436, 0.7435897435897436, 0.7435897435897436, 0.7435897435897436, 0.7435897435897436, 0.7435897435897436, 0.7435897435897436, 0.7435897435897436, 0.7435897435897436, 0.7435897435897436, 0.7435897435897436, 0.7435897435897436, 0.7435897435897436, 0.7435897435897436, 0.7435897435897436]\n"
     ]
    }
   ],
   "source": [
    "#Create a new list for the accuracy values of a pruned decision tree.  Loop through\n",
    "#the values of ccp and append the scores to the list\n",
    "acc_pruned = []\n",
    "ccps = np.array(list(range(0,101)))/100 \n",
    "for ccp in ccps:\n",
    "    dtree_ccp = DecisionTreeClassifier(ccp_alpha=ccp)\n",
    "    dtree_ccp.fit(x_train, y_train)\n",
    "    acc_pruned.append(dtree_ccp.score(x_test, y_test))\n",
    "\n",
    "print(acc_pruned)"
   ]
  },
  {
   "cell_type": "code",
   "execution_count": 129,
   "metadata": {},
   "outputs": [
    {
     "data": {
      "image/png": "[encoded data removed]",
      "text/plain": [
       "<Figure size 1200x400 with 1 Axes>"
      ]
     },
     "metadata": {},
     "output_type": "display_data"
    }
   ],
   "source": [
    "#Plot the accuracy vs ccp_alpha\n",
    "plt.figure(figsize=(12, 4))\n",
    "\n",
    "plt.plot(ccps, acc_pruned, 'kx-')\n",
    "plt.title(f\"Best accuracy achieved with $CCP={np.max(ccps)}$\")\n",
    "plt.xlabel('ccp_alpha hyperparameter')\n",
    "plt.ylabel('Accuracy score')\n",
    "plt.xticks(np.array(list(range(0, 101, 10)))/100)\n",
    "plt.show()"
   ]
  },
  {
   "cell_type": "code",
   "execution_count": 130,
   "metadata": {},
   "outputs": [
    {
     "name": "stdout",
     "output_type": "stream",
     "text": [
      "1\n",
      "0.01\n"
     ]
    }
   ],
   "source": [
    "\n",
    "#Find the largest accuracy and the ccp value this occurs\n",
    "best_ccp_idx = np.argmax(acc_pruned)\n",
    "best_ccp = ccps[best_ccp_idx]\n",
    "print(best_ccp_idx)\n",
    "print(best_ccp)\n"
   ]
  },
  {
   "cell_type": "code",
   "execution_count": 131,
   "metadata": {},
   "outputs": [
    {
     "data": {
      "text/plain": [
       "0.8461538461538461"
      ]
     },
     "execution_count": 131,
     "metadata": {},
     "output_type": "execute_result"
    }
   ],
   "source": [
    "#Fit a decision tree model with the values for max_depth and ccp_alpha found above\n",
    "dtree_best = DecisionTreeClassifier(max_depth=best_depth, ccp_alpha=best_ccp)\n",
    "dtree_best.fit(x_train, y_train)\n",
    "dtree_best.score(x_test, y_test)"
   ]
  },
  {
   "cell_type": "code",
   "execution_count": 136,
   "metadata": {},
   "outputs": [
    {
     "data": {
      "image/png": "[encoded data removed]",
      "text/plain": [
       "<Figure size 640x480 with 1 Axes>"
      ]
     },
     "metadata": {},
     "output_type": "display_data"
    }
   ],
   "source": [
    "#Plot the final decision tree\n",
    "tree.plot_tree(dtree_best, filled=True)\n",
    "plt.show()"
   ]
  }
 ],
 "metadata": {
  "kernelspec": {
   "display_name": "Python 3",
   "language": "python",
   "name": "python3"
  },
  "language_info": {
   "codemirror_mode": {
    "name": "ipython",
    "version": 3
   },
   "file_extension": ".py",
   "mimetype": "text/x-python",
   "name": "python",
   "nbconvert_exporter": "python",
   "pygments_lexer": "ipython3",
   "version": "3.12.5"
  }
 },
 "nbformat": 4,
 "nbformat_minor": 2
}
