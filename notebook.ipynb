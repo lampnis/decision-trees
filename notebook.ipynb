{
 "cells": [
  {
   "cell_type": "markdown",
   "metadata": {},
   "source": [
    "# Decision tree for recognizing the flags of countries"
   ]
  },
  {
   "cell_type": "code",
   "execution_count": 164,
   "metadata": {},
   "outputs": [],
   "source": [
    "import seaborn as sns\n",
    "import pandas as pd\n",
    "import numpy as np\n",
    "from sklearn.model_selection import train_test_split\n",
    "import matplotlib.pyplot as plt\n",
    "from sklearn.tree import DecisionTreeClassifier\n",
    "from sklearn import tree\n",
    "from ucimlrepo import fetch_ucirepo\n",
    "\n",
    "flags = fetch_ucirepo(id=40)"
   ]
  },
  {
   "cell_type": "code",
   "execution_count": 165,
   "metadata": {},
   "outputs": [
    {
     "name": "stdout",
     "output_type": "stream",
     "text": [
      "   landmass  zone  area  population  language  religion  bars  stripes  \\\n",
      "0         5     1   648          16        10         2     0        3   \n",
      "1         3     1    29           3         6         6     0        0   \n",
      "2         4     1  2388          20         8         2     2        0   \n",
      "3         6     3     0           0         1         1     0        0   \n",
      "4         3     1     0           0         6         0     3        0   \n",
      "\n",
      "   colours  red  ...  saltries  quarters  sunstars  crescent  triangle  icon  \\\n",
      "0        5    1  ...         0         0         1         0         0     1   \n",
      "1        3    1  ...         0         0         1         0         0     0   \n",
      "2        3    1  ...         0         0         1         1         0     0   \n",
      "3        5    1  ...         0         0         0         0         1     1   \n",
      "4        3    1  ...         0         0         0         0         0     0   \n",
      "\n",
      "  animate  text  topleft  botright  \n",
      "0       0     0    black     green  \n",
      "1       1     0      red       red  \n",
      "2       0     0    green     white  \n",
      "3       1     0     blue       red  \n",
      "4       0     0     blue       red  \n",
      "\n",
      "[5 rows x 29 columns]\n",
      "0       Afghanistan\n",
      "1           Albania\n",
      "2           Algeria\n",
      "3    American-Samoa\n",
      "4           Andorra\n",
      "Name: name, dtype: object\n",
      "<class 'pandas.core.series.Series'>\n",
      "   landmass  zone  area  population  language  religion  bars  stripes  \\\n",
      "0         5     1   648          16        10         2     0        3   \n",
      "1         3     1    29           3         6         6     0        0   \n",
      "2         4     1  2388          20         8         2     2        0   \n",
      "3         6     3     0           0         1         1     0        0   \n",
      "4         3     1     0           0         6         0     3        0   \n",
      "\n",
      "   colours  red  ...  quarters  sunstars  crescent  triangle  icon  animate  \\\n",
      "0        5    1  ...         0         1         0         0     1        0   \n",
      "1        3    1  ...         0         1         0         0     0        1   \n",
      "2        3    1  ...         0         1         1         0     0        0   \n",
      "3        5    1  ...         0         0         0         1     1        1   \n",
      "4        3    1  ...         0         0         0         0     0        0   \n",
      "\n",
      "  text  topleft  botright            name  \n",
      "0    0    black     green     Afghanistan  \n",
      "1    0      red       red         Albania  \n",
      "2    0    green     white         Algeria  \n",
      "3    0     blue       red  American-Samoa  \n",
      "4    0     blue       red         Andorra  \n",
      "\n",
      "[5 rows x 30 columns]\n"
     ]
    }
   ],
   "source": [
    "X = flags.data.features.iloc[:,1:]\n",
    "y = flags.data.features['name']\n",
    "print(X.head())\n",
    "print(y.head())\n",
    "print(type(y))\n",
    "df = X.join(y.to_frame())\n",
    "print(df.head())"
   ]
  },
  {
   "cell_type": "code",
   "execution_count": 166,
   "metadata": {},
   "outputs": [],
   "source": [
    "#https://archive.ics.uci.edu/ml/machine-learning-databases/flags/flag.data\n",
    "# cols = ['name','landmass','zone', 'area', 'population', 'language','religion','bars','stripes','colours', 'red','green','blue','gold','white','black','orange','mainhue','circles', 'crosses','saltires','quarters','sunstars','crescent','triangle','icon','animate','text','topleft','botright']\n",
    "# df= pd.read_csv(\"https://archive.ics.uci.edu/ml/machine-learning-databases/flags/flag.data\", names = cols)\n",
    "# This cell only if we dont have done `pip install ucimlrepo`"
   ]
  },
  {
   "cell_type": "code",
   "execution_count": 167,
   "metadata": {},
   "outputs": [
    {
     "name": "stdout",
     "output_type": "stream",
     "text": [
      "          name\n",
      "landmass      \n",
      "1           31\n",
      "2           17\n",
      "3           35\n",
      "4           52\n",
      "5           39\n",
      "6           20\n"
     ]
    }
   ],
   "source": [
    "#variable names to use as predictors\n",
    "var = ['red', 'green', 'blue', 'gold', 'white', 'black', 'orange', 'mainhue', 'bars', 'stripes', 'circles', 'crosses', 'saltries', 'quarters', 'sunstars', 'triangle', 'animate']\n",
    "\n",
    "#Print number of countries by landmass, or continent (3=Europe, 6=Oceania)\n",
    "print(df[['name', 'landmass']].groupby('landmass').count())\n"
   ]
  },
  {
   "cell_type": "code",
   "execution_count": 168,
   "metadata": {},
   "outputs": [
    {
     "name": "stdout",
     "output_type": "stream",
     "text": [
      "    landmass  zone  area  population  language  religion  bars  stripes  \\\n",
      "1          3     1    29           3         6         6     0        0   \n",
      "3          6     3     0           0         1         1     0        0   \n",
      "4          3     1     0           0         6         0     3        0   \n",
      "10         6     2  7690          15         1         1     0        0   \n",
      "11         3     1    84           8         4         0     0        3   \n",
      "\n",
      "    colours  red  ...  quarters  sunstars  crescent  triangle  icon  animate  \\\n",
      "1         3    1  ...         0         1         0         0     0        1   \n",
      "3         5    1  ...         0         0         0         1     1        1   \n",
      "4         3    1  ...         0         0         0         0     0        0   \n",
      "10        3    1  ...         1         6         0         0     0        0   \n",
      "11        2    1  ...         0         0         0         0     0        0   \n",
      "\n",
      "   text  topleft  botright            name  \n",
      "1     0      red       red         Albania  \n",
      "3     0     blue       red  American-Samoa  \n",
      "4     0     blue       red         Andorra  \n",
      "10    0    white      blue       Australia  \n",
      "11    0      red       red         Austria  \n",
      "\n",
      "[5 rows x 30 columns]\n"
     ]
    }
   ],
   "source": [
    "#Create a new dataframe with only flags from Europe and Oceania\n",
    "df_36 =  df[df['landmass'].isin([3, 6])]\n",
    "print(df_36.head())"
   ]
  },
  {
   "cell_type": "code",
   "execution_count": 169,
   "metadata": {},
   "outputs": [
    {
     "name": "stdout",
     "output_type": "stream",
     "text": [
      "[1 2 3 4 5 6]\n"
     ]
    }
   ],
   "source": [
    "# red=1, blue=2, gold=3, white=4, black=5, green=6\n",
    "df_36.loc[:,'mainhue'] = df_36['mainhue'].replace({\n",
    "    'red': 1,\n",
    "    'blue': 2,\n",
    "    'gold': 3,\n",
    "    'white': 4,\n",
    "    'black': 5,\n",
    "    'green': 6\n",
    "})\n",
    "print(df_36['mainhue'].unique())"
   ]
  },
  {
   "cell_type": "code",
   "execution_count": 170,
   "metadata": {},
   "outputs": [
    {
     "name": "stdout",
     "output_type": "stream",
     "text": [
      "landmass         3     6\n",
      "red       0.828571   0.8\n",
      "green          0.2   0.2\n",
      "blue      0.514286   0.8\n",
      "gold      0.428571   0.6\n",
      "white     0.771429  0.95\n",
      "black     0.171429  0.15\n",
      "orange    0.057143  0.15\n",
      "mainhue   2.285714   2.1\n",
      "bars      0.628571   0.0\n",
      "stripes   1.285714   0.4\n",
      "circles   0.028571  0.15\n",
      "crosses   0.285714   0.4\n",
      "saltries  0.028571   0.3\n",
      "quarters  0.028571   0.4\n",
      "sunstars  0.142857   3.3\n",
      "triangle  0.028571  0.25\n",
      "animate   0.114286   0.3\n"
     ]
    }
   ],
   "source": [
    "# Print the average values of the predictors for Europe and Oceania\n",
    "df_36_grouped = df_36.groupby('landmass')[var].mean().T\n",
    "print(df_36_grouped)"
   ]
  },
  {
   "cell_type": "code",
   "execution_count": 171,
   "metadata": {},
   "outputs": [
    {
     "name": "stdout",
     "output_type": "stream",
     "text": [
      "0      0\n",
      "1      1\n",
      "2      0\n",
      "3      1\n",
      "4      1\n",
      "      ..\n",
      "189    1\n",
      "190    1\n",
      "191    0\n",
      "192    0\n",
      "193    0\n",
      "Name: landmass, Length: 194, dtype: int32\n"
     ]
    }
   ],
   "source": [
    "#Create labels for only Europe and Oceania\n",
    "labels = (df['landmass'].isin([3, 6]))*1 \n",
    "print(labels)"
   ]
  },
  {
   "cell_type": "code",
   "execution_count": 172,
   "metadata": {},
   "outputs": [
    {
     "name": "stdout",
     "output_type": "stream",
     "text": [
      "red          int64\n",
      "green        int64\n",
      "blue         int64\n",
      "gold         int64\n",
      "white        int64\n",
      "black        int64\n",
      "orange       int64\n",
      "mainhue     object\n",
      "bars         int64\n",
      "stripes      int64\n",
      "circles      int64\n",
      "crosses      int64\n",
      "saltries     int64\n",
      "quarters     int64\n",
      "sunstars     int64\n",
      "triangle     int64\n",
      "animate      int64\n",
      "dtype: object\n"
     ]
    }
   ],
   "source": [
    "#Print the variable types for the predictors\n",
    "print(df_36[var].dtypes)"
   ]
  },
  {
   "cell_type": "code",
   "execution_count": 173,
   "metadata": {},
   "outputs": [
    {
     "name": "stdout",
     "output_type": "stream",
     "text": [
      "Index(['red', 'green', 'blue', 'gold', 'white', 'black', 'orange', 'bars',\n",
      "       'stripes', 'circles', 'crosses', 'saltries', 'quarters', 'sunstars',\n",
      "       'triangle', 'animate', 'mainhue_black', 'mainhue_blue', 'mainhue_brown',\n",
      "       'mainhue_gold', 'mainhue_green', 'mainhue_orange', 'mainhue_red',\n",
      "       'mainhue_white'],\n",
      "      dtype='object')\n"
     ]
    }
   ],
   "source": [
    "#Create dummy variables for categorical predictors\n",
    "data = pd.get_dummies(df[var])\n",
    "print(data.columns)"
   ]
  },
  {
   "cell_type": "code",
   "execution_count": 174,
   "metadata": {},
   "outputs": [],
   "source": [
    "#Split data into a train and test set\n",
    "x_train, x_test, y_train, y_test = train_test_split(data, labels, test_size=0.2)"
   ]
  },
  {
   "cell_type": "code",
   "execution_count": 175,
   "metadata": {},
   "outputs": [
    {
     "name": "stdout",
     "output_type": "stream",
     "text": [
      "red               int64\n",
      "green             int64\n",
      "blue              int64\n",
      "gold              int64\n",
      "white             int64\n",
      "black             int64\n",
      "orange            int64\n",
      "bars              int64\n",
      "stripes           int64\n",
      "circles           int64\n",
      "crosses           int64\n",
      "saltries          int64\n",
      "quarters          int64\n",
      "sunstars          int64\n",
      "triangle          int64\n",
      "animate           int64\n",
      "mainhue_black      bool\n",
      "mainhue_blue       bool\n",
      "mainhue_brown      bool\n",
      "mainhue_gold       bool\n",
      "mainhue_green      bool\n",
      "mainhue_orange     bool\n",
      "mainhue_red        bool\n",
      "mainhue_white      bool\n",
      "dtype: object\n"
     ]
    }
   ],
   "source": [
    "print(x_train.dtypes)"
   ]
  },
  {
   "cell_type": "code",
   "execution_count": 176,
   "metadata": {},
   "outputs": [],
   "source": [
    "#Fit a decision tree for max_depth values 1-20; save the accuracy score in acc_depth\n",
    "depths = range(1, 21)\n",
    "acc_depth = []\n",
    "for depth in depths:\n",
    "    dtree = DecisionTreeClassifier(max_depth=depth)\n",
    "    dtree.fit(x_train, y_train)\n",
    "    acc_depth.append(dtree.score(x_test, y_test))"
   ]
  },
  {
   "cell_type": "code",
   "execution_count": 181,
   "metadata": {},
   "outputs": [
    {
     "data": {
      "image/png": "[encoded data removed]",
      "text/plain": [
       "<Figure size 1000x300 with 1 Axes>"
      ]
     },
     "metadata": {},
     "output_type": "display_data"
    }
   ],
   "source": [
    "#Plot the accuracy vs depth\n",
    "plt.figure(figsize=(10, 3))\n",
    "plt.plot(depths, acc_depth, 'kx-')\n",
    "plt.xlabel('Depth of a tree')\n",
    "plt.ylabel('Accuracy')\n",
    "plt.title('Accuracy vs Depth of Decision Tree')\n",
    "plt.xticks(depths)\n",
    "plt.show()"
   ]
  },
  {
   "cell_type": "code",
   "execution_count": 186,
   "metadata": {},
   "outputs": [
    {
     "name": "stdout",
     "output_type": "stream",
     "text": [
      "[0.6666666666666666, 0.8205128205128205, 0.8205128205128205, 0.7948717948717948, 0.7948717948717948, 0.7692307692307693, 0.6923076923076923, 0.6666666666666666, 0.717948717948718, 0.717948717948718, 0.6923076923076923, 0.717948717948718, 0.717948717948718, 0.717948717948718, 0.6666666666666666, 0.6666666666666666, 0.6923076923076923, 0.717948717948718, 0.6666666666666666, 0.717948717948718]\n",
      "2\n"
     ]
    }
   ],
   "source": [
    "#Find the largest accuracy and the depth this occurs\n",
    "largest_acc = np.argmax(acc_depth)\n",
    "print(acc_depth)\n",
    "print(largest_acc+1)"
   ]
  },
  {
   "cell_type": "code",
   "execution_count": 178,
   "metadata": {},
   "outputs": [],
   "source": [
    "#Refit decision tree model with the highest accuracy and plot the decision tree\n",
    "\n",
    "\n",
    "#Create a new list for the accuracy values of a pruned decision tree.  Loop through\n",
    "#the values of ccp and append the scores to the list\n",
    "\n",
    "\n",
    "#Plot the accuracy vs ccp_alpha\n",
    "\n",
    "\n",
    "#Find the largest accuracy and the ccp value this occurs\n",
    "\n",
    "\n",
    "#Fit a decision tree model with the values for max_depth and ccp_alpha found above\n",
    "\n",
    "\n",
    "#Plot the final decision tree"
   ]
  },
  {
   "cell_type": "code",
   "execution_count": null,
   "metadata": {},
   "outputs": [],
   "source": []
  }
 ],
 "metadata": {
  "kernelspec": {
   "display_name": "Python 3",
   "language": "python",
   "name": "python3"
  },
  "language_info": {
   "codemirror_mode": {
    "name": "ipython",
    "version": 3
   },
   "file_extension": ".py",
   "mimetype": "text/x-python",
   "name": "python",
   "nbconvert_exporter": "python",
   "pygments_lexer": "ipython3",
   "version": "3.10.2"
  }
 },
 "nbformat": 4,
 "nbformat_minor": 2
}
